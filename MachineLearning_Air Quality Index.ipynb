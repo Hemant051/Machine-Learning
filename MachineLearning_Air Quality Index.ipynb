{
  "nbformat": 4,
  "nbformat_minor": 0,
  "metadata": {
    "colab": {
      "name": "MachineLearning_lab Exp 9.ipynb",
      "provenance": [],
      "collapsed_sections": [],
      "authorship_tag": "ABX9TyOQeteCT7nxLnGIbbAIslbT",
      "include_colab_link": true
    },
    "kernelspec": {
      "name": "python3",
      "display_name": "Python 3"
    },
    "language_info": {
      "name": "python"
    }
  },
  "cells": [
    {
      "cell_type": "markdown",
      "metadata": {
        "id": "view-in-github",
        "colab_type": "text"
      },
      "source": [
        "<a href=\"https://colab.research.google.com/github/Hemant051/Machine-Learning/blob/main/MachineLearning_Air%20Quality%20Index.ipynb\" target=\"_parent\"><img src=\"https://colab.research.google.com/assets/colab-badge.svg\" alt=\"Open In Colab\"/></a>"
      ]
    },
    {
      "cell_type": "code",
      "metadata": {
        "colab": {
          "base_uri": "https://localhost:8080/"
        },
        "id": "cFn4wetdedfx",
        "outputId": "d9480052-bf1e-4acb-ce4d-a9891982c59c"
      },
      "source": [
        "import pandas as pd\n",
        "AirQuality={'S.No': [1,2,3,4,5,6,7,8,9,10,11,12,13,14,15,16,17,18,19,20],\n",
        "            'Ozone': [41,36,12,18,227,28,23,19,8,24,7,16,11,14,18,14,34,6,30,11],\n",
        "            'Solar R': [190,118,149,313,192,193,299,99,19,194,152,256,290,274,65,334,307,78,322,44],\n",
        "            'Wind': [7.4,8,12.6,11.5,14.3,14.9,8.6,13.8,20.1,8.6,6.9,9.7,9.2,10.9,13.2,11.5,1,18.4,11.5,9.7],\n",
        "            'Temp': [67,72,74,62,56,66,65,59,61,69,74,69,66,68,58,64,66,57,68,62],\n",
        "            'Month': [5,5,5,5,5,5,5,5,5,5,5,5,5,5,5,5,5,5,5,5],\n",
        "            'Day': [1,2,3,4,5,6,7,8,9,10,11,12,13,14,15,16,17,18,19,20]\n",
        "    }\n",
        "df=pd.DataFrame(AirQuality,columns=['S.No','Ozone','Solar R','Wind','Temp','Month','Day',])\n",
        "print(df)"
      ],
      "execution_count": null,
      "outputs": [
        {
          "output_type": "stream",
          "name": "stdout",
          "text": [
            "    S.No  Ozone  Solar R  Wind  Temp  Month  Day\n",
            "0      1     41      190   7.4    67      5    1\n",
            "1      2     36      118   8.0    72      5    2\n",
            "2      3     12      149  12.6    74      5    3\n",
            "3      4     18      313  11.5    62      5    4\n",
            "4      5    227      192  14.3    56      5    5\n",
            "5      6     28      193  14.9    66      5    6\n",
            "6      7     23      299   8.6    65      5    7\n",
            "7      8     19       99  13.8    59      5    8\n",
            "8      9      8       19  20.1    61      5    9\n",
            "9     10     24      194   8.6    69      5   10\n",
            "10    11      7      152   6.9    74      5   11\n",
            "11    12     16      256   9.7    69      5   12\n",
            "12    13     11      290   9.2    66      5   13\n",
            "13    14     14      274  10.9    68      5   14\n",
            "14    15     18       65  13.2    58      5   15\n",
            "15    16     14      334  11.5    64      5   16\n",
            "16    17     34      307   1.0    66      5   17\n",
            "17    18      6       78  18.4    57      5   18\n",
            "18    19     30      322  11.5    68      5   19\n",
            "19    20     11       44   9.7    62      5   20\n"
          ]
        }
      ]
    },
    {
      "cell_type": "code",
      "metadata": {
        "colab": {
          "base_uri": "https://localhost:8080/",
          "height": 299
        },
        "id": "Ap7BmmfYkhMI",
        "outputId": "ceb84744-f3a3-429f-ae69-8015e2456195"
      },
      "source": [
        "df.describe()"
      ],
      "execution_count": null,
      "outputs": [
        {
          "output_type": "execute_result",
          "data": {
            "text/html": [
              "<div>\n",
              "<style scoped>\n",
              "    .dataframe tbody tr th:only-of-type {\n",
              "        vertical-align: middle;\n",
              "    }\n",
              "\n",
              "    .dataframe tbody tr th {\n",
              "        vertical-align: top;\n",
              "    }\n",
              "\n",
              "    .dataframe thead th {\n",
              "        text-align: right;\n",
              "    }\n",
              "</style>\n",
              "<table border=\"1\" class=\"dataframe\">\n",
              "  <thead>\n",
              "    <tr style=\"text-align: right;\">\n",
              "      <th></th>\n",
              "      <th>S.No</th>\n",
              "      <th>Ozone</th>\n",
              "      <th>Solar R</th>\n",
              "      <th>Wind</th>\n",
              "      <th>Temp</th>\n",
              "      <th>Month</th>\n",
              "      <th>Day</th>\n",
              "    </tr>\n",
              "  </thead>\n",
              "  <tbody>\n",
              "    <tr>\n",
              "      <th>count</th>\n",
              "      <td>20.00000</td>\n",
              "      <td>20.000000</td>\n",
              "      <td>20.000000</td>\n",
              "      <td>20.000000</td>\n",
              "      <td>20.000000</td>\n",
              "      <td>20.0</td>\n",
              "      <td>20.00000</td>\n",
              "    </tr>\n",
              "    <tr>\n",
              "      <th>mean</th>\n",
              "      <td>10.50000</td>\n",
              "      <td>29.850000</td>\n",
              "      <td>194.400000</td>\n",
              "      <td>11.090000</td>\n",
              "      <td>65.150000</td>\n",
              "      <td>5.0</td>\n",
              "      <td>10.50000</td>\n",
              "    </tr>\n",
              "    <tr>\n",
              "      <th>std</th>\n",
              "      <td>5.91608</td>\n",
              "      <td>47.474398</td>\n",
              "      <td>101.366661</td>\n",
              "      <td>4.207875</td>\n",
              "      <td>5.294237</td>\n",
              "      <td>0.0</td>\n",
              "      <td>5.91608</td>\n",
              "    </tr>\n",
              "    <tr>\n",
              "      <th>min</th>\n",
              "      <td>1.00000</td>\n",
              "      <td>6.000000</td>\n",
              "      <td>19.000000</td>\n",
              "      <td>1.000000</td>\n",
              "      <td>56.000000</td>\n",
              "      <td>5.0</td>\n",
              "      <td>1.00000</td>\n",
              "    </tr>\n",
              "    <tr>\n",
              "      <th>25%</th>\n",
              "      <td>5.75000</td>\n",
              "      <td>11.750000</td>\n",
              "      <td>113.250000</td>\n",
              "      <td>8.600000</td>\n",
              "      <td>61.750000</td>\n",
              "      <td>5.0</td>\n",
              "      <td>5.75000</td>\n",
              "    </tr>\n",
              "    <tr>\n",
              "      <th>50%</th>\n",
              "      <td>10.50000</td>\n",
              "      <td>18.000000</td>\n",
              "      <td>192.500000</td>\n",
              "      <td>11.200000</td>\n",
              "      <td>66.000000</td>\n",
              "      <td>5.0</td>\n",
              "      <td>10.50000</td>\n",
              "    </tr>\n",
              "    <tr>\n",
              "      <th>75%</th>\n",
              "      <td>15.25000</td>\n",
              "      <td>28.500000</td>\n",
              "      <td>292.250000</td>\n",
              "      <td>13.350000</td>\n",
              "      <td>68.250000</td>\n",
              "      <td>5.0</td>\n",
              "      <td>15.25000</td>\n",
              "    </tr>\n",
              "    <tr>\n",
              "      <th>max</th>\n",
              "      <td>20.00000</td>\n",
              "      <td>227.000000</td>\n",
              "      <td>334.000000</td>\n",
              "      <td>20.100000</td>\n",
              "      <td>74.000000</td>\n",
              "      <td>5.0</td>\n",
              "      <td>20.00000</td>\n",
              "    </tr>\n",
              "  </tbody>\n",
              "</table>\n",
              "</div>"
            ],
            "text/plain": [
              "           S.No       Ozone     Solar R       Wind       Temp  Month       Day\n",
              "count  20.00000   20.000000   20.000000  20.000000  20.000000   20.0  20.00000\n",
              "mean   10.50000   29.850000  194.400000  11.090000  65.150000    5.0  10.50000\n",
              "std     5.91608   47.474398  101.366661   4.207875   5.294237    0.0   5.91608\n",
              "min     1.00000    6.000000   19.000000   1.000000  56.000000    5.0   1.00000\n",
              "25%     5.75000   11.750000  113.250000   8.600000  61.750000    5.0   5.75000\n",
              "50%    10.50000   18.000000  192.500000  11.200000  66.000000    5.0  10.50000\n",
              "75%    15.25000   28.500000  292.250000  13.350000  68.250000    5.0  15.25000\n",
              "max    20.00000  227.000000  334.000000  20.100000  74.000000    5.0  20.00000"
            ]
          },
          "metadata": {},
          "execution_count": 3
        }
      ]
    },
    {
      "cell_type": "code",
      "metadata": {
        "colab": {
          "base_uri": "https://localhost:8080/",
          "height": 205
        },
        "id": "6ubSGDNOkklY",
        "outputId": "01b43e98-d158-4bf9-f84a-4948ccb8d947"
      },
      "source": [
        "df.head()"
      ],
      "execution_count": null,
      "outputs": [
        {
          "output_type": "execute_result",
          "data": {
            "text/html": [
              "<div>\n",
              "<style scoped>\n",
              "    .dataframe tbody tr th:only-of-type {\n",
              "        vertical-align: middle;\n",
              "    }\n",
              "\n",
              "    .dataframe tbody tr th {\n",
              "        vertical-align: top;\n",
              "    }\n",
              "\n",
              "    .dataframe thead th {\n",
              "        text-align: right;\n",
              "    }\n",
              "</style>\n",
              "<table border=\"1\" class=\"dataframe\">\n",
              "  <thead>\n",
              "    <tr style=\"text-align: right;\">\n",
              "      <th></th>\n",
              "      <th>S.No</th>\n",
              "      <th>Ozone</th>\n",
              "      <th>Solar R</th>\n",
              "      <th>Wind</th>\n",
              "      <th>Temp</th>\n",
              "      <th>Month</th>\n",
              "      <th>Day</th>\n",
              "    </tr>\n",
              "  </thead>\n",
              "  <tbody>\n",
              "    <tr>\n",
              "      <th>0</th>\n",
              "      <td>1</td>\n",
              "      <td>41</td>\n",
              "      <td>190</td>\n",
              "      <td>7.4</td>\n",
              "      <td>67</td>\n",
              "      <td>5</td>\n",
              "      <td>1</td>\n",
              "    </tr>\n",
              "    <tr>\n",
              "      <th>1</th>\n",
              "      <td>2</td>\n",
              "      <td>36</td>\n",
              "      <td>118</td>\n",
              "      <td>8.0</td>\n",
              "      <td>72</td>\n",
              "      <td>5</td>\n",
              "      <td>2</td>\n",
              "    </tr>\n",
              "    <tr>\n",
              "      <th>2</th>\n",
              "      <td>3</td>\n",
              "      <td>12</td>\n",
              "      <td>149</td>\n",
              "      <td>12.6</td>\n",
              "      <td>74</td>\n",
              "      <td>5</td>\n",
              "      <td>3</td>\n",
              "    </tr>\n",
              "    <tr>\n",
              "      <th>3</th>\n",
              "      <td>4</td>\n",
              "      <td>18</td>\n",
              "      <td>313</td>\n",
              "      <td>11.5</td>\n",
              "      <td>62</td>\n",
              "      <td>5</td>\n",
              "      <td>4</td>\n",
              "    </tr>\n",
              "    <tr>\n",
              "      <th>4</th>\n",
              "      <td>5</td>\n",
              "      <td>227</td>\n",
              "      <td>192</td>\n",
              "      <td>14.3</td>\n",
              "      <td>56</td>\n",
              "      <td>5</td>\n",
              "      <td>5</td>\n",
              "    </tr>\n",
              "  </tbody>\n",
              "</table>\n",
              "</div>"
            ],
            "text/plain": [
              "   S.No  Ozone  Solar R  Wind  Temp  Month  Day\n",
              "0     1     41      190   7.4    67      5    1\n",
              "1     2     36      118   8.0    72      5    2\n",
              "2     3     12      149  12.6    74      5    3\n",
              "3     4     18      313  11.5    62      5    4\n",
              "4     5    227      192  14.3    56      5    5"
            ]
          },
          "metadata": {},
          "execution_count": 4
        }
      ]
    },
    {
      "cell_type": "code",
      "metadata": {
        "colab": {
          "base_uri": "https://localhost:8080/"
        },
        "id": "rWETKaGdkxam",
        "outputId": "e8b4b619-2949-4e9b-c76e-4c96a56433f5"
      },
      "source": [
        "df.info()"
      ],
      "execution_count": null,
      "outputs": [
        {
          "output_type": "stream",
          "name": "stdout",
          "text": [
            "<class 'pandas.core.frame.DataFrame'>\n",
            "RangeIndex: 20 entries, 0 to 19\n",
            "Data columns (total 7 columns):\n",
            " #   Column   Non-Null Count  Dtype  \n",
            "---  ------   --------------  -----  \n",
            " 0   S.No     20 non-null     int64  \n",
            " 1   Ozone    20 non-null     int64  \n",
            " 2   Solar R  20 non-null     int64  \n",
            " 3   Wind     20 non-null     float64\n",
            " 4   Temp     20 non-null     int64  \n",
            " 5   Month    20 non-null     int64  \n",
            " 6   Day      20 non-null     int64  \n",
            "dtypes: float64(1), int64(6)\n",
            "memory usage: 1.2 KB\n"
          ]
        }
      ]
    },
    {
      "cell_type": "code",
      "metadata": {
        "colab": {
          "base_uri": "https://localhost:8080/"
        },
        "id": "jjLwR0Oglcjr",
        "outputId": "5d207c10-19e3-43c3-991f-9657b69939c7"
      },
      "source": [
        "df.nunique()"
      ],
      "execution_count": null,
      "outputs": [
        {
          "output_type": "execute_result",
          "data": {
            "text/plain": [
              "S.No       20\n",
              "Ozone      17\n",
              "Solar R    20\n",
              "Wind       16\n",
              "Temp       14\n",
              "Month       1\n",
              "Day        20\n",
              "dtype: int64"
            ]
          },
          "metadata": {},
          "execution_count": 6
        }
      ]
    },
    {
      "cell_type": "code",
      "metadata": {
        "id": "G_vffsdemSEY",
        "colab": {
          "base_uri": "https://localhost:8080/"
        },
        "outputId": "afdd7dc1-c2bc-4ae9-de88-0838767f9415"
      },
      "source": [
        "df.max()\n",
        "df.min()\n",
        "df.mean()\n",
        "df.median()"
      ],
      "execution_count": null,
      "outputs": [
        {
          "output_type": "execute_result",
          "data": {
            "text/plain": [
              "S.No        10.5\n",
              "Ozone       18.0\n",
              "Solar R    192.5\n",
              "Wind        11.2\n",
              "Temp        66.0\n",
              "Month        5.0\n",
              "Day         10.5\n",
              "dtype: float64"
            ]
          },
          "metadata": {},
          "execution_count": 7
        }
      ]
    },
    {
      "cell_type": "code",
      "metadata": {
        "id": "bZw2qDXtMhLP"
      },
      "source": [
        "from sklearn.linear_model import LinearRegression"
      ],
      "execution_count": null,
      "outputs": []
    },
    {
      "cell_type": "code",
      "metadata": {
        "colab": {
          "base_uri": "https://localhost:8080/"
        },
        "id": "IauQS9lFMsgQ",
        "outputId": "df86805c-7b56-4a20-dcae-71d03d72110f"
      },
      "source": [
        "model=LinearRegression()\n",
        "#model.fit(X,y)\n",
        "#r_sq = model.score(X,y)\n",
        "#print('coefficient of determination:', r_sq)\n",
        "model = LinearRegression()\n",
        "df=df.drop('S.No',axis='columns')\n",
        "model.fit(df.drop('Ozone',axis='columns'),df.Ozone)"
      ],
      "execution_count": null,
      "outputs": [
        {
          "output_type": "execute_result",
          "data": {
            "text/plain": [
              "LinearRegression(copy_X=True, fit_intercept=True, n_jobs=None, normalize=False)"
            ]
          },
          "metadata": {},
          "execution_count": 9
        }
      ]
    },
    {
      "cell_type": "markdown",
      "metadata": {
        "id": "J4CM_N8DMzGO"
      },
      "source": [
        "**r_sq = model.score(x, y)**"
      ]
    },
    {
      "cell_type": "code",
      "metadata": {
        "colab": {
          "base_uri": "https://localhost:8080/"
        },
        "id": "nvhYI-nwMv3G",
        "outputId": "eb7b7cae-1fcb-4b42-fef0-093341099a8a"
      },
      "source": [
        "r_sq = model.score(df.drop('Ozone',axis='columns'),df.Ozone)\n",
        "print('Coffecient of determination:', r_sq)\n",
        "print('intercept:', model.intercept_)\n",
        "print('slope:', model.coef_)"
      ],
      "execution_count": null,
      "outputs": [
        {
          "output_type": "stream",
          "name": "stdout",
          "text": [
            "Coffecient of determination: 0.33107319052556106\n",
            "intercept: 423.4305832020601\n",
            "slope: [ 0.07301469 -2.12425254 -5.33184418  0.         -3.50924086]\n"
          ]
        }
      ]
    },
    {
      "cell_type": "code",
      "metadata": {
        "colab": {
          "base_uri": "https://localhost:8080/"
        },
        "id": "hrDIz42mM4_N",
        "outputId": "c36cdedc-aa26-4b8c-ffb7-4122809a670c"
      },
      "source": [
        "model.predict([[299,8.6,65,5,7]])"
      ],
      "execution_count": null,
      "outputs": [
        {
          "output_type": "execute_result",
          "data": {
            "text/plain": [
              "array([55.8588446])"
            ]
          },
          "metadata": {},
          "execution_count": 11
        }
      ]
    },
    {
      "cell_type": "code",
      "metadata": {
        "colab": {
          "base_uri": "https://localhost:8080/"
        },
        "id": "9XX3Esu1M7rk",
        "outputId": "0bc3a7bb-f4c6-4b34-9129-1549d3333b15"
      },
      "source": [
        "model.predict([[313,11.5,62,5,21]])"
      ],
      "execution_count": null,
      "outputs": [
        {
          "output_type": "execute_result",
          "data": {
            "text/plain": [
              "array([17.58687832])"
            ]
          },
          "metadata": {},
          "execution_count": 12
        }
      ]
    },
    {
      "cell_type": "code",
      "metadata": {
        "colab": {
          "base_uri": "https://localhost:8080/"
        },
        "id": "FuQUzznJM-q5",
        "outputId": "2c01041a-def0-4733-ca34-c63e72a2d60b"
      },
      "source": [
        "model.predict([[192,14.3,56,5,5]])"
      ],
      "execution_count": null,
      "outputs": [
        {
          "output_type": "execute_result",
          "data": {
            "text/plain": [
              "array([90.94311311])"
            ]
          },
          "metadata": {},
          "execution_count": 13
        }
      ]
    },
    {
      "cell_type": "code",
      "metadata": {
        "id": "Fqmta5FgNB0k"
      },
      "source": [
        ""
      ],
      "execution_count": null,
      "outputs": []
    }
  ]
}